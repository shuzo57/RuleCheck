{
 "cells": [
  {
   "cell_type": "code",
   "execution_count": 1,
   "id": "0425ebc8",
   "metadata": {},
   "outputs": [],
   "source": [
    "import sys, pathlib\n",
    "root = pathlib.Path.cwd().parents[0]\n",
    "sys.path.append(str(root))"
   ]
  },
  {
   "cell_type": "code",
   "execution_count": 2,
   "id": "4fdf3af5",
   "metadata": {},
   "outputs": [],
   "source": [
    "from typing import List\n",
    "from pathlib import Path\n",
    "import os, textwrap\n",
    "from google import genai\n",
    "from google.genai import types\n",
    "from app.services.pptx_parser import PptxConverter\n",
    "from app.services.schemas import AnalysisItem"
   ]
  },
  {
   "cell_type": "code",
   "execution_count": null,
   "id": "4fc59721",
   "metadata": {},
   "outputs": [],
   "source": [
    "client = genai.Client(api_key=os.environ[\"GEMINI_API_KEY\"])"
   ]
  },
  {
   "cell_type": "code",
   "execution_count": 4,
   "id": "dbf96948",
   "metadata": {},
   "outputs": [],
   "source": [
    "pptx_path = Path(\"C:/Users/kitano/RuleCheck/backend/tests/data/dummy_slide.pptx\")\n",
    "xml_str = PptxConverter.convert_to_xml(pptx_path, pretty=False)"
   ]
  },
  {
   "cell_type": "code",
   "execution_count": 5,
   "id": "50a798a7",
   "metadata": {},
   "outputs": [],
   "source": [
    "RULES = textwrap.dedent(\n",
    "\"\"\"\n",
    "    1. 誤字脱字の確認と修正提案\n",
    "    2. 製品名の不使用（成分名のみを使用）\n",
    "    3. 恐怖をあおるような表現の禁止\n",
    "    4. 治癒・完治など断定的治療効果表現の禁止\n",
    "    5. 医療行為や医療現場を想起させる表現の禁止\n",
    "    6. 効果・効能の誇大表現の禁止\n",
    "    7. 出典や作成者名の明記確認（両方とも欠けている場合のみ指摘）\n",
    "    8. 特定医療機関名への誘導表現の禁止\n",
    "    9. 一般生活者向け広告表現の禁止（一般用医薬品等を除く）\n",
    "\"\"\"\n",
    ").strip()"
   ]
  },
  {
   "cell_type": "code",
   "execution_count": 6,
   "id": "9f877137",
   "metadata": {},
   "outputs": [],
   "source": [
    "prompt = f\"\"\"\n",
    "あなたは医療・製薬・ヘルスケア資料を審査するコンプライアンス担当者です。\n",
    "薬機法および以下の「チェック対象ルール」に照らし、違反または懸念箇所を指摘してください。\n",
    "\n",
    "## チェック対象ルール\n",
    "{RULES}\n",
    "\n",
    "## スライド XML\n",
    "{xml_str}\n",
    "\n",
    "### 指摘カテゴリ\n",
    "- 誤植 : 誤字脱字  \n",
    "- 表現 : 表現規制・薬機法違反の可能性  \n",
    "- 出典 : 出典および作成者情報が両方欠如  \n",
    "\n",
    "### 出力要件\n",
    "- JSON 配列のみを返す（テキスト装飾・説明文は禁止）  \n",
    "- スキーマ: slideNumber, category, basis, issue, suggestion  \n",
    "- slideNumber は XML の number 属性と一致させる  \n",
    "- basis には違反根拠となるルール番号または薬機法条文を含める  \n",
    "\"\"\""
   ]
  },
  {
   "cell_type": "code",
   "execution_count": null,
   "id": "c2fae436",
   "metadata": {},
   "outputs": [],
   "source": [
    "response = client.models.generate_content(\n",
    "    model=\"gemini-2.5-flash\",\n",
    "    contents=prompt,\n",
    "    config=types.GenerateContentConfig(\n",
    "        thinking_config=types.ThinkingConfig(thinking_budget=0), # Disables thinking\n",
    "        temperature=0.1,\n",
    "        response_mime_type=\"application/json\",\n",
    "        response_schema=list[AnalysisItem], \n",
    "    )\n",
    ")"
   ]
  },
  {
   "cell_type": "code",
   "execution_count": 8,
   "id": "08a424fa",
   "metadata": {},
   "outputs": [
    {
     "name": "stdout",
     "output_type": "stream",
     "text": [
      "[\n",
      "  {\n",
      "    \"slideNumber\": 1,\n",
      "    \"category\": \"誤植\",\n",
      "    \"basis\": \"1\",\n",
      "    \"issue\": \"「こんな事をる患者さんがよくいます」の「る」は誤字。\",\n",
      "    \"suggestion\": \"「こんな事を言う患者さんがよくいます」に修正してください。\"\n",
      "  },\n",
      "  {\n",
      "    \"slideNumber\": 1,\n",
      "    \"category\": \"誤植\",\n",
      "    \"basis\": \"1\",\n",
      "    \"issue\": \"「五版を食べた後の」の「五版」は誤字。\",\n",
      "    \"suggestion\": \"「ご飯を食べた後の」に修正してください。\"\n",
      "  },\n",
      "  {\n",
      "    \"slideNumber\": 1,\n",
      "    \"category\": \"表現\",\n",
      "    \"basis\": \"2\",\n",
      "    \"issue\": \"製品名「オングリザ」が使用されています。\",\n",
      "    \"suggestion\": \"製品名ではなく成分名「サキサグリプチン水和物」を使用してください。\"\n",
      "  },\n",
      "  {\n",
      "    \"slideNumber\": 2,\n",
      "    \"category\": \"表現\",\n",
      "    \"basis\": \"3, 4\",\n",
      "    \"issue\": \"「糖尿病が絶対に発症してしまう」という表現は、恐怖をあおり、断定的な表現です。\",\n",
      "    \"suggestion\": \"「糖尿病を発症するリスクが高まる可能性があります」など、恐怖をあおらず、断定を避けた表現に修正してください。\"\n",
      "  },\n",
      "  {\n",
      "    \"slideNumber\": 2,\n",
      "    \"category\": \"誤植\",\n",
      "    \"basis\": \"1\",\n",
      "    \"issue\": \"「疎外」は誤字。\",\n",
      "    \"suggestion\": \"「阻害」に修正してください。\"\n",
      "  },\n",
      "  {\n",
      "    \"slideNumber\": 2,\n",
      "    \"category\": \"誤植\",\n",
      "    \"basis\": \"1\",\n",
      "    \"issue\": \"「消化ホモルン」は誤字。\",\n",
      "    \"suggestion\": \"「消化ホルモン」に修正してください。\"\n",
      "  }\n",
      "]\n"
     ]
    }
   ],
   "source": [
    "# Use the response as a JSON string.\n",
    "print(response.text)\n",
    "\n",
    "# Use instantiated objects.\n",
    "my_analysis_item: list[AnalysisItem] = response.parsed"
   ]
  },
  {
   "cell_type": "code",
   "execution_count": null,
   "id": "d38ba091",
   "metadata": {},
   "outputs": [
    {
     "name": "stdout",
     "output_type": "stream",
     "text": [
      "<class 'list'>\n",
      "[{'slideNumber': 1, 'category': '誤植', 'basis': '1', 'issue': '「こんな事をる患者さんがよくいます」の「る」は誤字。', 'suggestion': '「こんな事を言う患者さんがよくいます」に修正してください。'}, {'slideNumber': 1, 'category': '誤植', 'basis': '1', 'issue': '「五版を食べた後の」の「五版」は誤字。', 'suggestion': '「ご飯を食べた後の」に修正してください。'}, {'slideNumber': 1, 'category': '表現', 'basis': '2', 'issue': '製品名「オングリザ」が使用されています。', 'suggestion': '製品名ではなく成分名「サキサグリプチン水和物」を使用してください。'}, {'slideNumber': 2, 'category': '表現', 'basis': '3, 4', 'issue': '「糖尿病が絶対に発症してしまう」という表現は、恐怖をあおり、断定的な表現です。', 'suggestion': '「糖尿病を発症するリスクが高まる可能性があります」など、恐怖をあおらず、断定を避けた表現に修正してください。'}, {'slideNumber': 2, 'category': '誤植', 'basis': '1', 'issue': '「疎外」は誤字。', 'suggestion': '「阻害」に修正してください。'}, {'slideNumber': 2, 'category': '誤植', 'basis': '1', 'issue': '「消化ホモルン」は誤字。', 'suggestion': '「消化ホルモン」に修正してください。'}]\n"
     ]
    }
   ],
   "source": [
    "import json\n",
    "import pandas as pd\n",
    "\n",
    "parsed_json = json.loads(response.text)\n",
    "print(type(parsed_json))\n",
    "print(parsed_json)"
   ]
  },
  {
   "cell_type": "code",
   "execution_count": 21,
   "id": "834ab62a",
   "metadata": {},
   "outputs": [
    {
     "data": {
      "text/html": [
       "<div>\n",
       "<style scoped>\n",
       "    .dataframe tbody tr th:only-of-type {\n",
       "        vertical-align: middle;\n",
       "    }\n",
       "\n",
       "    .dataframe tbody tr th {\n",
       "        vertical-align: top;\n",
       "    }\n",
       "\n",
       "    .dataframe thead th {\n",
       "        text-align: right;\n",
       "    }\n",
       "</style>\n",
       "<table border=\"1\" class=\"dataframe\">\n",
       "  <thead>\n",
       "    <tr style=\"text-align: right;\">\n",
       "      <th></th>\n",
       "      <th>slideNumber</th>\n",
       "      <th>category</th>\n",
       "      <th>basis</th>\n",
       "      <th>issue</th>\n",
       "      <th>suggestion</th>\n",
       "    </tr>\n",
       "  </thead>\n",
       "  <tbody>\n",
       "    <tr>\n",
       "      <th>0</th>\n",
       "      <td>1</td>\n",
       "      <td>誤植</td>\n",
       "      <td>1</td>\n",
       "      <td>「こんな事をる患者さんがよくいます」の「る」は誤字。</td>\n",
       "      <td>「こんな事を言う患者さんがよくいます」に修正してください。</td>\n",
       "    </tr>\n",
       "    <tr>\n",
       "      <th>1</th>\n",
       "      <td>1</td>\n",
       "      <td>誤植</td>\n",
       "      <td>1</td>\n",
       "      <td>「五版を食べた後の」の「五版」は誤字。</td>\n",
       "      <td>「ご飯を食べた後の」に修正してください。</td>\n",
       "    </tr>\n",
       "    <tr>\n",
       "      <th>2</th>\n",
       "      <td>1</td>\n",
       "      <td>表現</td>\n",
       "      <td>2</td>\n",
       "      <td>製品名「オングリザ」が使用されています。</td>\n",
       "      <td>製品名ではなく成分名「サキサグリプチン水和物」を使用してください。</td>\n",
       "    </tr>\n",
       "    <tr>\n",
       "      <th>3</th>\n",
       "      <td>2</td>\n",
       "      <td>表現</td>\n",
       "      <td>3, 4</td>\n",
       "      <td>「糖尿病が絶対に発症してしまう」という表現は、恐怖をあおり、断定的な表現です。</td>\n",
       "      <td>「糖尿病を発症するリスクが高まる可能性があります」など、恐怖をあおらず、断定を避けた表現に修...</td>\n",
       "    </tr>\n",
       "    <tr>\n",
       "      <th>4</th>\n",
       "      <td>2</td>\n",
       "      <td>誤植</td>\n",
       "      <td>1</td>\n",
       "      <td>「疎外」は誤字。</td>\n",
       "      <td>「阻害」に修正してください。</td>\n",
       "    </tr>\n",
       "    <tr>\n",
       "      <th>5</th>\n",
       "      <td>2</td>\n",
       "      <td>誤植</td>\n",
       "      <td>1</td>\n",
       "      <td>「消化ホモルン」は誤字。</td>\n",
       "      <td>「消化ホルモン」に修正してください。</td>\n",
       "    </tr>\n",
       "  </tbody>\n",
       "</table>\n",
       "</div>"
      ],
      "text/plain": [
       "   slideNumber category basis                                    issue  \\\n",
       "0            1       誤植     1               「こんな事をる患者さんがよくいます」の「る」は誤字。   \n",
       "1            1       誤植     1                      「五版を食べた後の」の「五版」は誤字。   \n",
       "2            1       表現     2                     製品名「オングリザ」が使用されています。   \n",
       "3            2       表現  3, 4  「糖尿病が絶対に発症してしまう」という表現は、恐怖をあおり、断定的な表現です。   \n",
       "4            2       誤植     1                                 「疎外」は誤字。   \n",
       "5            2       誤植     1                             「消化ホモルン」は誤字。   \n",
       "\n",
       "                                          suggestion  \n",
       "0                      「こんな事を言う患者さんがよくいます」に修正してください。  \n",
       "1                               「ご飯を食べた後の」に修正してください。  \n",
       "2                  製品名ではなく成分名「サキサグリプチン水和物」を使用してください。  \n",
       "3  「糖尿病を発症するリスクが高まる可能性があります」など、恐怖をあおらず、断定を避けた表現に修...  \n",
       "4                                     「阻害」に修正してください。  \n",
       "5                                 「消化ホルモン」に修正してください。  "
      ]
     },
     "execution_count": 21,
     "metadata": {},
     "output_type": "execute_result"
    }
   ],
   "source": [
    "import pandas as pd\n",
    "df = pd.DataFrame(parsed_json)\n",
    "df.head(10)"
   ]
  },
  {
   "cell_type": "code",
   "execution_count": null,
   "id": "3119b9bf",
   "metadata": {},
   "outputs": [],
   "source": []
  }
 ],
 "metadata": {
  "kernelspec": {
   "display_name": ".venv",
   "language": "python",
   "name": "python3"
  },
  "language_info": {
   "codemirror_mode": {
    "name": "ipython",
    "version": 3
   },
   "file_extension": ".py",
   "mimetype": "text/x-python",
   "name": "python",
   "nbconvert_exporter": "python",
   "pygments_lexer": "ipython3",
   "version": "3.12.10"
  }
 },
 "nbformat": 4,
 "nbformat_minor": 5
}
